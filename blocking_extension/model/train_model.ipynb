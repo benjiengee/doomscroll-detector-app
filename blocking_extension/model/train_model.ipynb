{
 "cells": [
  {
   "cell_type": "markdown",
   "id": "8f9117a4",
   "metadata": {},
   "source": [
    "# Fine Tune Original LLM with General Examples to Create [Base Model]"
   ]
  },
  {
   "cell_type": "markdown",
   "id": "1f2ea298",
   "metadata": {},
   "source": [
    "Load base BERT model"
   ]
  },
  {
   "cell_type": "code",
   "execution_count": null,
   "id": "907fffd2",
   "metadata": {},
   "outputs": [],
   "source": [
    "# %pip install transformers datasets peft accelerate\n",
    "\n",
    "from transformers import AutoModelForSequenceClassification, AutoTokenizer\n",
    "\n",
    "model_name = \"roberta-large\"\n",
    "tokenizer = AutoTokenizer.from_pretrained(model_name)\n",
    "\n",
    "# 1 output logit (probability of \"productive\")\n",
    "base_model = AutoModelForSequenceClassification.from_pretrained(model_name, num_labels=1)"
   ]
  },
  {
   "cell_type": "markdown",
   "id": "d2d265e0",
   "metadata": {},
   "source": [
    "Add LoRA layers using peft"
   ]
  },
  {
   "cell_type": "code",
   "execution_count": null,
   "id": "56d6981d",
   "metadata": {},
   "outputs": [],
   "source": [
    "from peft import get_peft_model, LoraConfig, TaskType\n",
    "\n",
    "# Set LoRA config (only 8 rank adapters for Q and V projections)\n",
    "lora_config = LoraConfig(\n",
    "    r=8,\n",
    "    lora_alpha=16,\n",
    "    target_modules=[\"query\", \"value\"],  # apply LoRA only to attention Q, V layers\n",
    "    lora_dropout=0.1,\n",
    "    bias=\"none\",\n",
    "    task_type=TaskType.SEQ_CLS,  # sequence classification\n",
    ")\n",
    "\n",
    "model = get_peft_model(base_model, lora_config)\n",
    "model.print_trainable_parameters()  # just to confirm only LoRA layers are trainable\n"
   ]
  },
  {
   "cell_type": "markdown",
   "id": "cbfdc763",
   "metadata": {},
   "source": [
    "Tokenize titles and labels"
   ]
  },
  {
   "cell_type": "code",
   "execution_count": null,
   "id": "4d9b48b8",
   "metadata": {},
   "outputs": [],
   "source": [
    "from datasets import load_dataset, Dataset\n",
    "import torch\n",
    "\n",
    "# Load your CSV file\n",
    "dataset = load_dataset(\"csv\", data_files=\"base_dataset.csv\")['train']\n",
    "\n",
    "# Keep only the necessary columns\n",
    "dataset = dataset.remove_columns([col for col in dataset.column_names if col not in [\"videoTitle\", \"label\"]])\n",
    "dataset = dataset.map(lambda x: {\"label\": float(x[\"label\"])})\n",
    "\n",
    "\n",
    "# Tokenization function\n",
    "def tokenize(batch):\n",
    "    tokens = tokenizer(batch[\"videoTitle\"], padding=\"max_length\", truncation=True, max_length=32)\n",
    "    tokens[\"labels\"] = torch.tensor(batch[\"label\"], dtype=torch.float32)\n",
    "    return tokens\n",
    "\n",
    "# Tokenize and format for PyTorch\n",
    "tokenized_dataset = dataset.map(tokenize)\n",
    "tokenized_dataset.set_format(\"torch\")\n",
    "\n",
    "print(tokenized_dataset[0])\n"
   ]
  },
  {
   "cell_type": "markdown",
   "id": "c9d96dad",
   "metadata": {},
   "source": [
    "Train model"
   ]
  },
  {
   "cell_type": "code",
   "execution_count": null,
   "id": "df8e5fee",
   "metadata": {},
   "outputs": [],
   "source": [
    "from transformers import TrainingArguments, Trainer\n",
    "\n",
    "training_args = TrainingArguments(\n",
    "    output_dir=\"./lora-roberta-productivity\",\n",
    "    learning_rate=5e-5,\n",
    "    per_device_train_batch_size=4,\n",
    "    num_train_epochs=5,\n",
    "    logging_dir=\"./logs\",\n",
    "    report_to=\"none\",\n",
    "    label_names=[\"labels\"],\n",
    ")\n",
    "\n",
    "trainer = Trainer(\n",
    "    model=model,\n",
    "    args=training_args,\n",
    "    train_dataset=tokenized_dataset,\n",
    ")\n",
    "\n",
    "trainer.train()\n"
   ]
  },
  {
   "cell_type": "code",
   "execution_count": null,
   "id": "0f89f0d8",
   "metadata": {},
   "outputs": [],
   "source": [
    "# Save both the base model and LoRA adapters\n",
    "model.save_pretrained(\"./lora-roberta-productivity\")  \n",
    "tokenizer.save_pretrained(\"./lora-roberta-productivity\")\n"
   ]
  },
  {
   "cell_type": "markdown",
   "id": "8d8d5f79",
   "metadata": {},
   "source": [
    "Predict on new titles"
   ]
  },
  {
   "cell_type": "code",
   "execution_count": null,
   "id": "789e1f7d",
   "metadata": {},
   "outputs": [],
   "source": [
    "from torch.nn.functional import sigmoid\n",
    "\n",
    "# model.eval()\n",
    "# device = torch.device(\"cuda:0\" if torch.cuda.is_available() else \"cpu\")\n",
    "device = torch.device(\"cpu\")\n",
    "model.to(device)\n",
    "\n",
    "# # If training on GPU, need to move all tensors to same device as model\n",
    "# for i, data in enumerate(training_args):\n",
    "#     inputs, labels = data[0].to(device), data[1].to(device)\n",
    "\n",
    "def predict_productivity(title):\n",
    "    inputs = tokenizer(title, return_tensors=\"pt\", truncation=True, padding=True, max_length=32)\n",
    "    with torch.no_grad():\n",
    "        logits = model(**inputs).logits\n",
    "        prob = sigmoid(logits).item()  # convert logit to probability\n",
    "    return prob\n",
    "\n",
    "# Example\n",
    "print(predict_productivity(\"Pomodoro technique for deep work\"))\n",
    "print(predict_productivity(\"Machine Learning for Everybody – Full Course\"))\n",
    "print(predict_productivity(\"Grand Theft Auto VI Trailer 2\"))\n",
    "print(predict_productivity(\"QLoRA—How to Fine-tune an LLM on a Single GPU (w/ Python Code)\"))\n",
    "print(predict_productivity(\"Methodz & Scump Watch OpTic SLAM Cloud 9 (EWC 2025)\"))\n"
   ]
  },
  {
   "cell_type": "code",
   "execution_count": null,
   "id": "6fe382d5",
   "metadata": {},
   "outputs": [],
   "source": [
    "import pandas as pd\n",
    "from sklearn.metrics import log_loss\n",
    "\n",
    "# Load test set\n",
    "test_df = pd.read_csv(\"yt_watch_data_clean.csv\")\n",
    "\n",
    "# Get predicted probabilities\n",
    "test_df[\"pred_prob\"] = test_df[\"videoTitle\"].apply(predict_productivity)\n",
    "\n",
    "# true labels\n",
    "y_true = test_df[\"label\"]\n",
    "\n",
    "# predicted probabilities\n",
    "y_prob = test_df[\"pred_prob\"]\n",
    "\n",
    "# log loss (cross entropy)\n",
    "ce_loss = log_loss(y_true, y_prob)\n",
    "print(\"Cross-Entropy Loss:\", ce_loss)\n"
   ]
  }
 ],
 "metadata": {
  "kernelspec": {
   "display_name": "Python 3",
   "language": "python",
   "name": "python3"
  },
  "language_info": {
   "codemirror_mode": {
    "name": "ipython",
    "version": 3
   },
   "file_extension": ".py",
   "mimetype": "text/x-python",
   "name": "python",
   "nbconvert_exporter": "python",
   "pygments_lexer": "ipython3",
   "version": "3.11.5"
  }
 },
 "nbformat": 4,
 "nbformat_minor": 5
}
