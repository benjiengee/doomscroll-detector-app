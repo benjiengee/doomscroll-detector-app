{
 "cells": [
  {
   "cell_type": "code",
   "execution_count": 1,
   "id": "10fbec81",
   "metadata": {},
   "outputs": [
    {
     "name": "stderr",
     "output_type": "stream",
     "text": [
      "/Library/Frameworks/Python.framework/Versions/3.11/lib/python3.11/site-packages/tqdm/auto.py:21: TqdmWarning: IProgress not found. Please update jupyter and ipywidgets. See https://ipywidgets.readthedocs.io/en/stable/user_install.html\n",
      "  from .autonotebook import tqdm as notebook_tqdm\n",
      "Some weights of RobertaForSequenceClassification were not initialized from the model checkpoint at roberta-large and are newly initialized: ['classifier.dense.bias', 'classifier.dense.weight', 'classifier.out_proj.bias', 'classifier.out_proj.weight']\n",
      "You should probably TRAIN this model on a down-stream task to be able to use it for predictions and inference.\n"
     ]
    }
   ],
   "source": [
    "from transformers import AutoModelForSequenceClassification, AutoTokenizer\n",
    "from peft import PeftModel\n",
    "import torch\n",
    "from torch.nn.functional import sigmoid\n",
    "\n",
    "model_name = \"roberta-large\"\n",
    "device = torch.device(\"cuda\" if torch.cuda.is_available() else \"cpu\")\n",
    "\n",
    "# Load tokenizer\n",
    "tokenizer = AutoTokenizer.from_pretrained(\"../model/lora-roberta-productivity\")\n",
    "\n",
    "# Load base model\n",
    "base_model = AutoModelForSequenceClassification.from_pretrained(model_name, num_labels=1)\n",
    "\n",
    "# Attach LoRA adapters\n",
    "model = PeftModel.from_pretrained(base_model, \"../model/lora-roberta-productivity\")\n",
    "model.to(device)\n",
    "model.eval()\n",
    "\n",
    "def predict_productivity(title: str) -> float:\n",
    "    inputs = tokenizer(title, return_tensors=\"pt\", truncation=True, padding=True, max_length=32).to(device)\n",
    "    with torch.no_grad():\n",
    "        logits = model(**inputs).logits\n",
    "        prob = sigmoid(logits).item()\n",
    "    return prob\n"
   ]
  },
  {
   "cell_type": "code",
   "execution_count": 2,
   "id": "823520cd",
   "metadata": {},
   "outputs": [
    {
     "name": "stdout",
     "output_type": "stream",
     "text": [
      "0.7051305174827576\n"
     ]
    }
   ],
   "source": [
    "print(predict_productivity(\"Pomodoro technique for deep work\"))"
   ]
  },
  {
   "cell_type": "code",
   "execution_count": 3,
   "id": "02c03911",
   "metadata": {},
   "outputs": [
    {
     "name": "stdout",
     "output_type": "stream",
     "text": [
      "Accuracy with productivity threshold of (0.65): 0.9397590361445783\n"
     ]
    }
   ],
   "source": [
    "import pandas as pd\n",
    "from sklearn.metrics import log_loss, accuracy_score\n",
    "\n",
    "# Load test set\n",
    "test_df = pd.read_csv(\"../model/dataset_building/yt_watch_data_clean.csv\")\n",
    "\n",
    "# Get predicted probabilities and labels\n",
    "test_df[\"pred_prob\"] = test_df[\"videoTitle\"].apply(predict_productivity)\n",
    "productive_threshold = 0.65\n",
    "test_df[\"pred_label\"] = (test_df[\"pred_prob\"] >= productive_threshold).astype(int)\n",
    "\n",
    "# true labels\n",
    "y_true = test_df[\"label\"]\n",
    "\n",
    "# predicted labels\n",
    "y_prob = test_df[\"pred_prob\"]\n",
    "y_pred = test_df[\"pred_label\"]\n",
    "\n",
    "# # log loss (cross entropy)\n",
    "# ce_loss = log_loss(y_true, y_prob)\n",
    "# print(\"Cross-Entropy Loss:\", ce_loss)\n",
    "\n",
    "# Accuracy with productivity threshold\n",
    "accuracy = accuracy_score(y_true, y_pred)\n",
    "print(f\"Accuracy with productivity threshold of ({productive_threshold}): {accuracy}\")\n",
    "\n",
    "# save for inspection\n",
    "test_df.to_csv(\"test_df.csv\", index=False)\n"
   ]
  }
 ],
 "metadata": {
  "kernelspec": {
   "display_name": "Python 3",
   "language": "python",
   "name": "python3"
  },
  "language_info": {
   "codemirror_mode": {
    "name": "ipython",
    "version": 3
   },
   "file_extension": ".py",
   "mimetype": "text/x-python",
   "name": "python",
   "nbconvert_exporter": "python",
   "pygments_lexer": "ipython3",
   "version": "3.11.5"
  }
 },
 "nbformat": 4,
 "nbformat_minor": 5
}
